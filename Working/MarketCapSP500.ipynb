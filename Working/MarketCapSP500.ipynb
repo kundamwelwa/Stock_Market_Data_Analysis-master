{
 "cells": [
  {
   "cell_type": "code",
   "execution_count": 1,
   "metadata": {},
   "outputs": [],
   "source": [
    "# Visualizing Stock Market Data Using S&P 500 and Quandl Financial Data\n",
    "# Market Cap Breakdown of S&P 500\n",
    "import quandl\n",
    "#quandl.ApiConfig.api_key = \"<api key goes here>"\n",
    "import numpy as np\n",
    "import pandas as pd\n",
    "from bs4 import BeautifulSoup\n",
    "\n"
   ]
  },
  {
   "cell_type": "code",
   "execution_count": 2,
   "metadata": {},
   "outputs": [],
   "source": [
    "# Download financial data from Quandl/Sharadar\n",
    "table = quandl.get_table('SHARADAR/SF1', paginate = True)\n",
    "\n"
   ]
  },
  {
   "cell_type": "code",
   "execution_count": 3,
   "metadata": {},
   "outputs": [],
   "source": [
    "# Grab most recent annual data ('MRY is annual data')\n",
    "stock_df = table[(table['calendardate'] == '2018-12-31 00:00:00') & (table['dimension'] == \"MRY\")]"
   ]
  },
  {
   "cell_type": "code",
   "execution_count": 4,
   "metadata": {},
   "outputs": [],
   "source": [
    "# Scrape S&P 500 tickers from Wikipedia\n",
    "import requests\n",
    "import re\n",
    "\n",
    "page_link = 'https://en.wikipedia.org/wiki/List_of_S%26P_500_companies' \n",
    "page_response = requests.get (page_link, timeout = 1000)\n",
    "page_content = BeautifulSoup (page_response.content, 'lxml')"
   ]
  },
  {
   "cell_type": "code",
   "execution_count": 5,
   "metadata": {},
   "outputs": [],
   "source": [
    "# Use parsing code to grab ticker and industry from page_content, BeautifulSoup data structure\n",
    "# Loops through all 'tr' tagged items in page_content\n",
    "# Retrieve ticker as string adn store in list, tickers\n",
    "# Retrieve industry as string and store in list, industries\n",
    "\n",
    "# From web scraped Wikipedia content on S&P 500, grab ticker and industry for each firm\n",
    "tickers = []\n",
    "industries = []\n",
    "for i, val in enumerate(page_content.find_all('tr')):\n",
    "    if i > 0:\n",
    "        try:\n",
    "            # Grab ticker\n",
    "            tickers.append(val.find_all('a')[0].text)\n",
    "            # Grab industry\n",
    "            industries.append(val.find_all('td')[3].text.replace('\\n', ''))\n",
    "        except:\n",
    "            pass\n",
    "        \n",
    "# Data manipulation to join ticker and industry data (from Wikipedia) \n",
    "# With financial data (from Quandl)\n",
    "# First blocks of code store tickers we want in dataframe called sp_df\n",
    "# Last block uses Pandas merge method to join sp_df, with ticker and industry data\n",
    "# With stock_df, which has financial data\n",
    "# Store resulting dataframe, merged_df, in .csv file\n",
    "# CSV file can be loaded into Tableau Public\n",
    "\n",
    "# After ticker ZTS, remaining entries in table are related to acquisitions & mergers\n",
    "last_pos = tickers.index('ZTS') + 1\n",
    "sp_tickers = tickers[:last_pos]\n",
    "sp_industries = industries[:last_pos]\n"
   ]
  },
  {
   "cell_type": "code",
   "execution_count": 6,
   "metadata": {},
   "outputs": [],
   "source": [
    "# Create new dataframe for S&P 500 and merge with Qundl data\n",
    "sp_df = pd.DataFrame()\n",
    "sp_df['tickers'] = sp_tickers\n",
    "sp_df['industries'] = sp_industries\n",
    "\n",
    "merged_df = sp_df.merge(stock_df, left_on = 'tickers', right_on = 'ticker', how = 'left')\n",
    "merged_df.to_csv('sp500.csv', index = False)"
   ]
  },
  {
   "cell_type": "code",
   "execution_count": null,
   "metadata": {},
   "outputs": [],
   "source": []
  }
 ],
 "metadata": {
  "kernelspec": {
   "display_name": "Python 3",
   "language": "python",
   "name": "python3"
  },
  "language_info": {
   "codemirror_mode": {
    "name": "ipython",
    "version": 3
   },
   "file_extension": ".py",
   "mimetype": "text/x-python",
   "name": "python",
   "nbconvert_exporter": "python",
   "pygments_lexer": "ipython3",
   "version": "3.7.3"
  }
 },
 "nbformat": 4,
 "nbformat_minor": 2
}
