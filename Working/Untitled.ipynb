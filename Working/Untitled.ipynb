{
 "cells": [
  {
   "cell_type": "code",
   "execution_count": 1,
   "metadata": {},
   "outputs": [],
   "source": [
    "import pandas as pd\n",
    "from bs4 import BeautifulSoup\n",
    "import urllib.request as ur"
   ]
  },
  {
   "cell_type": "code",
   "execution_count": 2,
   "metadata": {},
   "outputs": [],
   "source": [
    "# Enter a stock symbol\n",
    "index = 'MSFT'\n",
    "\n",
    "# URL link\n",
    "url_is = 'https://finance.yahoo.com/quote/' + index + '/financials?p=' + index\n",
    "url_is = 'https://finance.yahoo.com/quote/' + index + '/balance-sheet?p=' + index\n",
    "url_is = 'https://finance.yahoo.com/quote/' + index + '/cash-flow?p=' + index"
   ]
  },
  {
   "cell_type": "code",
   "execution_count": 3,
   "metadata": {},
   "outputs": [],
   "source": [
    "read_data = ur.urlopen(url_is).read()\n",
    "soup_is = BeautifulSoup(read_data, 'lxml')"
   ]
  },
  {
   "cell_type": "code",
   "execution_count": 4,
   "metadata": {},
   "outputs": [],
   "source": [
    "# Data Manipulation\n",
    "ls = [] # Create empty list\n",
    "for l in soup_is.find_all('div'):\n",
    "    # Find all data structures that are 'div'\n",
    "    ls.append(l.string) # add each element to the list\n",
    "    \n",
    "ls = [e for e in ls if e not in ('Operating Expenses', 'Non-recurring Events')] # Exclude those columns"
   ]
  },
  {
   "cell_type": "code",
   "execution_count": 5,
   "metadata": {},
   "outputs": [],
   "source": [
    "new_ls = list(filter(None, ls))"
   ]
  },
  {
   "cell_type": "code",
   "execution_count": 6,
   "metadata": {},
   "outputs": [],
   "source": [
    "new_ls = new_ls[12:]\n",
    "is_data = list(zip(*[iter(new_ls)]*6))"
   ]
  },
  {
   "cell_type": "code",
   "execution_count": 7,
   "metadata": {},
   "outputs": [
    {
     "data": {
      "text/html": [
       "<div>\n",
       "<style scoped>\n",
       "    .dataframe tbody tr th:only-of-type {\n",
       "        vertical-align: middle;\n",
       "    }\n",
       "\n",
       "    .dataframe tbody tr th {\n",
       "        vertical-align: top;\n",
       "    }\n",
       "\n",
       "    .dataframe thead th {\n",
       "        text-align: right;\n",
       "    }\n",
       "</style>\n",
       "<table border=\"1\" class=\"dataframe\">\n",
       "  <thead>\n",
       "    <tr style=\"text-align: right;\">\n",
       "      <th></th>\n",
       "      <th>0</th>\n",
       "      <th>1</th>\n",
       "      <th>2</th>\n",
       "      <th>3</th>\n",
       "      <th>4</th>\n",
       "      <th>5</th>\n",
       "    </tr>\n",
       "  </thead>\n",
       "  <tbody>\n",
       "    <tr>\n",
       "      <th>0</th>\n",
       "      <td>Quarterly</td>\n",
       "      <td>Expand All</td>\n",
       "      <td>ttm</td>\n",
       "      <td>6/30/2019</td>\n",
       "      <td>6/30/2018</td>\n",
       "      <td>6/30/2017</td>\n",
       "    </tr>\n",
       "    <tr>\n",
       "      <th>1</th>\n",
       "      <td>58,110,000</td>\n",
       "      <td>52,185,000</td>\n",
       "      <td>43,884,000</td>\n",
       "      <td>39,507,000</td>\n",
       "      <td>-15,018,000</td>\n",
       "      <td>-15,773,000</td>\n",
       "    </tr>\n",
       "    <tr>\n",
       "      <th>2</th>\n",
       "      <td>-6,061,000</td>\n",
       "      <td>-46,781,000</td>\n",
       "      <td>-42,455,000</td>\n",
       "      <td>-36,887,000</td>\n",
       "      <td>-33,590,000</td>\n",
       "      <td>8,408,000</td>\n",
       "    </tr>\n",
       "    <tr>\n",
       "      <th>3</th>\n",
       "      <td>11,849,000</td>\n",
       "      <td>11,356,000</td>\n",
       "      <td>11,946,000</td>\n",
       "      <td>7,663,000</td>\n",
       "      <td>Capital Expenditure</td>\n",
       "      <td>-14,748,000</td>\n",
       "    </tr>\n",
       "    <tr>\n",
       "      <th>4</th>\n",
       "      <td>-13,925,000</td>\n",
       "      <td>-11,632,000</td>\n",
       "      <td>-8,129,000</td>\n",
       "      <td>Issuance of Capital Stock</td>\n",
       "      <td>1,311,000</td>\n",
       "      <td>1,142,000</td>\n",
       "    </tr>\n",
       "    <tr>\n",
       "      <th>5</th>\n",
       "      <td>1,002,000</td>\n",
       "      <td>772,000</td>\n",
       "      <td>Issuance of Debt</td>\n",
       "      <td>-</td>\n",
       "      <td>0</td>\n",
       "      <td>7,183,000</td>\n",
       "    </tr>\n",
       "    <tr>\n",
       "      <th>6</th>\n",
       "      <td>44,344,000</td>\n",
       "      <td>Repayment of Debt</td>\n",
       "      <td>-6,518,000</td>\n",
       "      <td>-4,000,000</td>\n",
       "      <td>-10,060,000</td>\n",
       "      <td>-7,922,000</td>\n",
       "    </tr>\n",
       "    <tr>\n",
       "      <th>7</th>\n",
       "      <td>Repurchase of Capital Stock</td>\n",
       "      <td>-21,810,000</td>\n",
       "      <td>-19,543,000</td>\n",
       "      <td>-10,721,000</td>\n",
       "      <td>-11,788,000</td>\n",
       "      <td>Free Cash Flow</td>\n",
       "    </tr>\n",
       "    <tr>\n",
       "      <th>8</th>\n",
       "      <td>43,362,000</td>\n",
       "      <td>38,260,000</td>\n",
       "      <td>32,252,000</td>\n",
       "      <td>31,378,000</td>\n",
       "      <td>Learn more</td>\n",
       "      <td>© 2020 Verizon Media. All rights reserved.</td>\n",
       "    </tr>\n",
       "  </tbody>\n",
       "</table>\n",
       "</div>"
      ],
      "text/plain": [
       "                             0                  1                 2  \\\n",
       "0                    Quarterly         Expand All               ttm   \n",
       "1                   58,110,000         52,185,000        43,884,000   \n",
       "2                   -6,061,000        -46,781,000       -42,455,000   \n",
       "3                   11,849,000         11,356,000        11,946,000   \n",
       "4                  -13,925,000        -11,632,000        -8,129,000   \n",
       "5                    1,002,000            772,000  Issuance of Debt   \n",
       "6                   44,344,000  Repayment of Debt        -6,518,000   \n",
       "7  Repurchase of Capital Stock        -21,810,000       -19,543,000   \n",
       "8                   43,362,000         38,260,000        32,252,000   \n",
       "\n",
       "                           3                    4  \\\n",
       "0                  6/30/2019            6/30/2018   \n",
       "1                 39,507,000          -15,018,000   \n",
       "2                -36,887,000          -33,590,000   \n",
       "3                  7,663,000  Capital Expenditure   \n",
       "4  Issuance of Capital Stock            1,311,000   \n",
       "5                          -                    0   \n",
       "6                 -4,000,000          -10,060,000   \n",
       "7                -10,721,000          -11,788,000   \n",
       "8                 31,378,000           Learn more   \n",
       "\n",
       "                                            5  \n",
       "0                                   6/30/2017  \n",
       "1                                 -15,773,000  \n",
       "2                                   8,408,000  \n",
       "3                                 -14,748,000  \n",
       "4                                   1,142,000  \n",
       "5                                   7,183,000  \n",
       "6                                  -7,922,000  \n",
       "7                              Free Cash Flow  \n",
       "8  © 2020 Verizon Media. All rights reserved.  "
      ]
     },
     "execution_count": 7,
     "metadata": {},
     "output_type": "execute_result"
    }
   ],
   "source": [
    "Income_st = pd.DataFrame(is_data[0:])\n",
    "Income_st"
   ]
  },
  {
   "cell_type": "code",
   "execution_count": 8,
   "metadata": {},
   "outputs": [
    {
     "ename": "SyntaxError",
     "evalue": "invalid character in identifier (<ipython-input-8-88d79304ed2b>, line 7)",
     "output_type": "error",
     "traceback": [
      "\u001b[1;36m  File \u001b[1;32m\"<ipython-input-8-88d79304ed2b>\"\u001b[1;36m, line \u001b[1;32m7\u001b[0m\n\u001b[1;33m    Income_st.index.name = ‘’ # Remove the index name\u001b[0m\n\u001b[1;37m                            ^\u001b[0m\n\u001b[1;31mSyntaxError\u001b[0m\u001b[1;31m:\u001b[0m invalid character in identifier\n"
     ]
    }
   ],
   "source": [
    "# Data Cleaning\n",
    "Income_st.columns = Income_st.iloc[0] # Name columns to first row of dataframe\n",
    "Income_st = Income_st.iloc[1:,] # start to read 1st row\n",
    "Income_st = Income_st.T # transpose dataframe\n",
    "Income_st.columns = Income_st.iloc[0] #Name columns to first row of dataframe\n",
    "Income_st.drop(Income_st.index[0],inplace=True) #Drop first index row\n",
    "Income_st.index.name = '' # Remove the index name\n",
    "Income_st.rename(index={'ttm': '12/31/2019'},inplace=True) #Rename ttm in index columns to end of the year\n",
    "Income_st = Income_st[Income_st.columns[:-5]] # remove last 5 irrelevant columns"
   ]
  }
 ],
 "metadata": {
  "kernelspec": {
   "display_name": "Python 3",
   "language": "python",
   "name": "python3"
  },
  "language_info": {
   "codemirror_mode": {
    "name": "ipython",
    "version": 3
   },
   "file_extension": ".py",
   "mimetype": "text/x-python",
   "name": "python",
   "nbconvert_exporter": "python",
   "pygments_lexer": "ipython3",
   "version": "3.7.6"
  },
  "toc": {
   "base_numbering": 1,
   "nav_menu": {},
   "number_sections": true,
   "sideBar": true,
   "skip_h1_title": false,
   "title_cell": "Table of Contents",
   "title_sidebar": "Contents",
   "toc_cell": false,
   "toc_position": {},
   "toc_section_display": true,
   "toc_window_display": false
  }
 },
 "nbformat": 4,
 "nbformat_minor": 4
}
